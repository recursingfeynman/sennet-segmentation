{
 "cells": [
  {
   "cell_type": "code",
   "execution_count": 1,
   "id": "1b5c2555",
   "metadata": {
    "execution": {
     "iopub.execute_input": "2024-02-05T23:11:06.482595Z",
     "iopub.status.busy": "2024-02-05T23:11:06.481350Z",
     "iopub.status.idle": "2024-02-05T23:11:07.555647Z",
     "shell.execute_reply": "2024-02-05T23:11:07.554058Z"
    },
    "papermill": {
     "duration": 1.081918,
     "end_time": "2024-02-05T23:11:07.558719",
     "exception": false,
     "start_time": "2024-02-05T23:11:06.476801",
     "status": "completed"
    },
    "tags": []
   },
   "outputs": [],
   "source": [
    "import pandas as pd\n",
    "import cv2\n",
    "import numpy as np"
   ]
  },
  {
   "cell_type": "code",
   "execution_count": 2,
   "id": "35a74b91",
   "metadata": {
    "_cell_guid": "b1076dfc-b9ad-4769-8c92-a6c4dae69d19",
    "_uuid": "8f2839f25d086af736a60e9eeb907d3b93b6e0e5",
    "execution": {
     "iopub.execute_input": "2024-02-05T23:11:07.568447Z",
     "iopub.status.busy": "2024-02-05T23:11:07.567855Z",
     "iopub.status.idle": "2024-02-05T23:11:07.573430Z",
     "shell.execute_reply": "2024-02-05T23:11:07.572180Z"
    },
    "papermill": {
     "duration": 0.014257,
     "end_time": "2024-02-05T23:11:07.575878",
     "exception": false,
     "start_time": "2024-02-05T23:11:07.561621",
     "status": "completed"
    },
    "tags": []
   },
   "outputs": [],
   "source": [
    "class config:\n",
    "    root = '/kaggle/input/blood-vessel-segmentation'\n",
    "    data = '/kaggle/input/sennet-hoa-kidney-13-dense-full-kidney-masks/train_rles.csv'\n",
    "    groups = ['kidney_1_dense', 'kidney_3_dense', 'kidney_3_sparse', 'kidney_2']"
   ]
  },
  {
   "cell_type": "code",
   "execution_count": 3,
   "id": "4e4b9c04",
   "metadata": {
    "execution": {
     "iopub.execute_input": "2024-02-05T23:11:07.582763Z",
     "iopub.status.busy": "2024-02-05T23:11:07.582351Z",
     "iopub.status.idle": "2024-02-05T23:11:07.587807Z",
     "shell.execute_reply": "2024-02-05T23:11:07.586669Z"
    },
    "papermill": {
     "duration": 0.011958,
     "end_time": "2024-02-05T23:11:07.590487",
     "exception": false,
     "start_time": "2024-02-05T23:11:07.578529",
     "status": "completed"
    },
    "tags": []
   },
   "outputs": [],
   "source": [
    "dirs = {\n",
    "    'kidney_1_dense': 'train/kidney_1_dense/images',\n",
    "    'kidney_1_voi': 'train/kidney_1_voi/images',\n",
    "    'kidney_2': 'train/kidney_2/images',\n",
    "    'kidney_3_dense': 'train/kidney_3_sparse/images',\n",
    "    'kidney_3_sparse': 'train/kidney_3_sparse/images'\n",
    "}"
   ]
  },
  {
   "cell_type": "code",
   "execution_count": 4,
   "id": "03ee7dd8",
   "metadata": {
    "execution": {
     "iopub.execute_input": "2024-02-05T23:11:07.597476Z",
     "iopub.status.busy": "2024-02-05T23:11:07.597027Z",
     "iopub.status.idle": "2024-02-05T23:11:07.604217Z",
     "shell.execute_reply": "2024-02-05T23:11:07.602980Z"
    },
    "papermill": {
     "duration": 0.013614,
     "end_time": "2024-02-05T23:11:07.606704",
     "exception": false,
     "start_time": "2024-02-05T23:11:07.593090",
     "status": "completed"
    },
    "tags": []
   },
   "outputs": [],
   "source": [
    "def get_image_size(path):\n",
    "    img = cv2.imread(path, cv2.IMREAD_GRAYSCALE)\n",
    "    return list(img.shape)\n",
    "\n",
    "def compute_stats(path):\n",
    "    image = cv2.imread(path, cv2.IMREAD_GRAYSCALE)\n",
    "    image = np.asarray(image / 255.0, dtype=np.float32)\n",
    "    stats = (\n",
    "        image.min(),\n",
    "        image.max(),\n",
    "        image.mean(),\n",
    "        image.std()\n",
    "    )\n",
    "    return stats"
   ]
  },
  {
   "cell_type": "code",
   "execution_count": 5,
   "id": "8d9c7eb1",
   "metadata": {
    "execution": {
     "iopub.execute_input": "2024-02-05T23:11:07.615050Z",
     "iopub.status.busy": "2024-02-05T23:11:07.613547Z",
     "iopub.status.idle": "2024-02-05T23:16:52.305215Z",
     "shell.execute_reply": "2024-02-05T23:16:52.304009Z"
    },
    "papermill": {
     "duration": 344.698718,
     "end_time": "2024-02-05T23:16:52.308187",
     "exception": false,
     "start_time": "2024-02-05T23:11:07.609469",
     "status": "completed"
    },
    "tags": []
   },
   "outputs": [],
   "source": [
    "df = pd.read_csv(config.data)\n",
    "\n",
    "df['group'] = df['id'].apply(lambda x: \"_\".join(x.split('_')[:-1]))\n",
    "df['image'] = df['id'].apply(lambda x: x.split('_')[-1])\n",
    "df['path'] = df.apply(lambda x: f\"{config.root}/{dirs[x.group]}/{x.image}.tif\", axis = 1)\n",
    "\n",
    "df = df.merge(\n",
    "    df.drop_duplicates(subset = ['group'])\n",
    "        .set_index('group')['path']\n",
    "        .apply(get_image_size)\n",
    "        .apply(pd.Series)\n",
    "        .rename(columns = {0: 'height', 1: 'width'}),\n",
    "    on = 'group',\n",
    "    how = 'left'\n",
    ")\n",
    "df = df.loc[df.group.isin(config.groups)]\n",
    "df = df.rename(columns = {'rle': 'vessels', 'kidney_rle': 'kidney'})\n",
    "\n",
    "stats_df = (df.path\n",
    "            .apply(compute_stats).apply(pd.Series)\n",
    "            .rename(columns = {0: 'min', 1: 'max', 2: 'mean', 3: 'std'})\n",
    "           )\n",
    "\n",
    "df = pd.concat((df, stats_df), axis = 1)\n",
    "df['image'] = df['image'].apply(lambda x: str(x).zfill(4))"
   ]
  },
  {
   "cell_type": "code",
   "execution_count": 6,
   "id": "865b6872",
   "metadata": {
    "execution": {
     "iopub.execute_input": "2024-02-05T23:16:52.315953Z",
     "iopub.status.busy": "2024-02-05T23:16:52.315172Z",
     "iopub.status.idle": "2024-02-05T23:16:54.509090Z",
     "shell.execute_reply": "2024-02-05T23:16:54.507733Z"
    },
    "papermill": {
     "duration": 2.200529,
     "end_time": "2024-02-05T23:16:54.511748",
     "exception": false,
     "start_time": "2024-02-05T23:16:52.311219",
     "status": "completed"
    },
    "tags": []
   },
   "outputs": [],
   "source": [
    "df.to_csv('train-data.csv', index = False)"
   ]
  }
 ],
 "metadata": {
  "kaggle": {
   "accelerator": "none",
   "dataSources": [
    {
     "databundleVersionId": 6962461,
     "sourceId": 61446,
     "sourceType": "competition"
    },
    {
     "datasetId": 4055577,
     "sourceId": 7047700,
     "sourceType": "datasetVersion"
    }
   ],
   "dockerImageVersionId": 30587,
   "isGpuEnabled": false,
   "isInternetEnabled": true,
   "language": "python",
   "sourceType": "notebook"
  },
  "kernelspec": {
   "display_name": "Python 3",
   "language": "python",
   "name": "python3"
  },
  "language_info": {
   "codemirror_mode": {
    "name": "ipython",
    "version": 3
   },
   "file_extension": ".py",
   "mimetype": "text/x-python",
   "name": "python",
   "nbconvert_exporter": "python",
   "pygments_lexer": "ipython3",
   "version": "3.10.12"
  },
  "papermill": {
   "default_parameters": {},
   "duration": 352.502346,
   "end_time": "2024-02-05T23:16:55.147062",
   "environment_variables": {},
   "exception": null,
   "input_path": "__notebook__.ipynb",
   "output_path": "__notebook__.ipynb",
   "parameters": {},
   "start_time": "2024-02-05T23:11:02.644716",
   "version": "2.4.0"
  }
 },
 "nbformat": 4,
 "nbformat_minor": 5
}
