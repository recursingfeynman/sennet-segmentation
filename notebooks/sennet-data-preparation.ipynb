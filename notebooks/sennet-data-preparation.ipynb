{
 "cells": [
  {
   "cell_type": "code",
   "execution_count": 1,
   "id": "f97d229f",
   "metadata": {
    "execution": {
     "iopub.execute_input": "2023-12-17T15:39:33.762768Z",
     "iopub.status.busy": "2023-12-17T15:39:33.762049Z",
     "iopub.status.idle": "2023-12-17T15:39:35.004080Z",
     "shell.execute_reply": "2023-12-17T15:39:35.002689Z"
    },
    "papermill": {
     "duration": 1.250487,
     "end_time": "2023-12-17T15:39:35.006914",
     "exception": false,
     "start_time": "2023-12-17T15:39:33.756427",
     "status": "completed"
    },
    "tags": []
   },
   "outputs": [],
   "source": [
    "import pandas as pd\n",
    "import cv2\n",
    "import numpy as np"
   ]
  },
  {
   "cell_type": "code",
   "execution_count": 2,
   "id": "892078ac",
   "metadata": {
    "_cell_guid": "b1076dfc-b9ad-4769-8c92-a6c4dae69d19",
    "_uuid": "8f2839f25d086af736a60e9eeb907d3b93b6e0e5",
    "execution": {
     "iopub.execute_input": "2023-12-17T15:39:35.018050Z",
     "iopub.status.busy": "2023-12-17T15:39:35.017176Z",
     "iopub.status.idle": "2023-12-17T15:39:35.022573Z",
     "shell.execute_reply": "2023-12-17T15:39:35.021819Z"
    },
    "papermill": {
     "duration": 0.01446,
     "end_time": "2023-12-17T15:39:35.024970",
     "exception": false,
     "start_time": "2023-12-17T15:39:35.010510",
     "status": "completed"
    },
    "tags": []
   },
   "outputs": [],
   "source": [
    "class config:\n",
    "    root = '/kaggle/input/blood-vessel-segmentation'\n",
    "    data = '/kaggle/input/sennet-hoa-kidney-13-dense-full-kidney-masks/train_rles.csv'\n",
    "    groups = ['kidney_1_dense', 'kidney_3_dense', 'kidney_3_sparse']"
   ]
  },
  {
   "cell_type": "code",
   "execution_count": 3,
   "id": "156174cf",
   "metadata": {
    "execution": {
     "iopub.execute_input": "2023-12-17T15:39:35.033497Z",
     "iopub.status.busy": "2023-12-17T15:39:35.032855Z",
     "iopub.status.idle": "2023-12-17T15:39:35.038192Z",
     "shell.execute_reply": "2023-12-17T15:39:35.037262Z"
    },
    "papermill": {
     "duration": 0.012391,
     "end_time": "2023-12-17T15:39:35.040607",
     "exception": false,
     "start_time": "2023-12-17T15:39:35.028216",
     "status": "completed"
    },
    "tags": []
   },
   "outputs": [],
   "source": [
    "dirs = {\n",
    "    'kidney_1_dense': 'train/kidney_1_dense/images',\n",
    "    'kidney_1_voi': 'train/kidney_1_voi/images',\n",
    "    'kidney_2': 'train/kidney_2/images',\n",
    "    'kidney_3_dense': 'train/kidney_3_sparse/images',\n",
    "    'kidney_3_sparse': 'train/kidney_3_sparse/images'\n",
    "}"
   ]
  },
  {
   "cell_type": "code",
   "execution_count": 4,
   "id": "f9dbe07e",
   "metadata": {
    "execution": {
     "iopub.execute_input": "2023-12-17T15:39:35.049317Z",
     "iopub.status.busy": "2023-12-17T15:39:35.048641Z",
     "iopub.status.idle": "2023-12-17T15:39:35.055859Z",
     "shell.execute_reply": "2023-12-17T15:39:35.054900Z"
    },
    "papermill": {
     "duration": 0.014501,
     "end_time": "2023-12-17T15:39:35.058464",
     "exception": false,
     "start_time": "2023-12-17T15:39:35.043963",
     "status": "completed"
    },
    "tags": []
   },
   "outputs": [],
   "source": [
    "def get_image_size(path):\n",
    "    img = cv2.imread(path, cv2.IMREAD_GRAYSCALE)\n",
    "    return list(img.shape)\n",
    "\n",
    "def compute_stats(path):\n",
    "    image = cv2.imread(path, cv2.IMREAD_GRAYSCALE)\n",
    "    image = np.asarray(image / 255.0, dtype=np.float32)\n",
    "    stats = (\n",
    "        image.min(),\n",
    "        image.max(),\n",
    "        image.mean(),\n",
    "        image.std()\n",
    "    )\n",
    "    return stats"
   ]
  },
  {
   "cell_type": "code",
   "execution_count": 5,
   "id": "79d9c834",
   "metadata": {
    "execution": {
     "iopub.execute_input": "2023-12-17T15:39:35.067442Z",
     "iopub.status.busy": "2023-12-17T15:39:35.066802Z",
     "iopub.status.idle": "2023-12-17T15:43:03.342610Z",
     "shell.execute_reply": "2023-12-17T15:43:03.341550Z"
    },
    "papermill": {
     "duration": 208.283656,
     "end_time": "2023-12-17T15:43:03.345628",
     "exception": false,
     "start_time": "2023-12-17T15:39:35.061972",
     "status": "completed"
    },
    "tags": []
   },
   "outputs": [],
   "source": [
    "df = pd.read_csv(config.data)\n",
    "\n",
    "df['group'] = df['id'].apply(lambda x: \"_\".join(x.split('_')[:-1]))\n",
    "df['image'] = df['id'].apply(lambda x: x.split('_')[-1])\n",
    "df['path'] = df.apply(lambda x: f\"{config.root}/{dirs[x.group]}/{x.image}.tif\", axis = 1)\n",
    "\n",
    "df = df.merge(\n",
    "    df.drop_duplicates(subset = ['group'])\n",
    "        .set_index('group')['path']\n",
    "        .apply(get_image_size)\n",
    "        .apply(pd.Series)\n",
    "        .rename(columns = {0: 'height', 1: 'width'}),\n",
    "    on = 'group',\n",
    "    how = 'left'\n",
    ")\n",
    "df = df.loc[df.group.isin(config.groups)]\n",
    "df = df.rename(columns = {'rle': 'vessels', 'kidney_rle': 'kidney'})\n",
    "\n",
    "stats_df = (df.path\n",
    "            .apply(compute_stats).apply(pd.Series)\n",
    "            .rename(columns = {0: 'min', 1: 'max', 2: 'mean', 3: 'std'})\n",
    "           )\n",
    "\n",
    "df = pd.concat((df, stats_df), axis = 1)\n",
    "df['image'] = df['image'].apply(lambda x: str(x).zfill(4))"
   ]
  },
  {
   "cell_type": "code",
   "execution_count": 6,
   "id": "06656c34",
   "metadata": {
    "execution": {
     "iopub.execute_input": "2023-12-17T15:43:03.354286Z",
     "iopub.status.busy": "2023-12-17T15:43:03.353886Z",
     "iopub.status.idle": "2023-12-17T15:43:06.351778Z",
     "shell.execute_reply": "2023-12-17T15:43:06.350379Z"
    },
    "papermill": {
     "duration": 3.006197,
     "end_time": "2023-12-17T15:43:06.355524",
     "exception": false,
     "start_time": "2023-12-17T15:43:03.349327",
     "status": "completed"
    },
    "tags": []
   },
   "outputs": [],
   "source": [
    "df.to_csv('train-data.csv', index = False)"
   ]
  }
 ],
 "metadata": {
  "kaggle": {
   "accelerator": "none",
   "dataSources": [
    {
     "databundleVersionId": 6962461,
     "sourceId": 61446,
     "sourceType": "competition"
    },
    {
     "datasetId": 4055577,
     "sourceId": 7047700,
     "sourceType": "datasetVersion"
    }
   ],
   "dockerImageVersionId": 30587,
   "isGpuEnabled": false,
   "isInternetEnabled": true,
   "language": "python",
   "sourceType": "notebook"
  },
  "kernelspec": {
   "display_name": "Python 3",
   "language": "python",
   "name": "python3"
  },
  "language_info": {
   "codemirror_mode": {
    "name": "ipython",
    "version": 3
   },
   "file_extension": ".py",
   "mimetype": "text/x-python",
   "name": "python",
   "nbconvert_exporter": "python",
   "pygments_lexer": "ipython3",
   "version": "3.10.12"
  },
  "papermill": {
   "default_parameters": {},
   "duration": 217.038472,
   "end_time": "2023-12-17T15:43:06.883414",
   "environment_variables": {},
   "exception": null,
   "input_path": "__notebook__.ipynb",
   "output_path": "__notebook__.ipynb",
   "parameters": {},
   "start_time": "2023-12-17T15:39:29.844942",
   "version": "2.4.0"
  }
 },
 "nbformat": 4,
 "nbformat_minor": 5
}
