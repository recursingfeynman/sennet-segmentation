{
 "cells": [
  {
   "cell_type": "code",
   "execution_count": 1,
   "id": "842554b6",
   "metadata": {
    "execution": {
     "iopub.execute_input": "2023-12-08T14:52:04.625469Z",
     "iopub.status.busy": "2023-12-08T14:52:04.624991Z",
     "iopub.status.idle": "2023-12-08T14:52:06.215409Z",
     "shell.execute_reply": "2023-12-08T14:52:06.214221Z"
    },
    "papermill": {
     "duration": 1.599705,
     "end_time": "2023-12-08T14:52:06.218438",
     "exception": false,
     "start_time": "2023-12-08T14:52:04.618733",
     "status": "completed"
    },
    "tags": []
   },
   "outputs": [],
   "source": [
    "import pandas as pd\n",
    "import cv2\n",
    "import numpy as np"
   ]
  },
  {
   "cell_type": "code",
   "execution_count": 2,
   "id": "59c64fd5",
   "metadata": {
    "_cell_guid": "b1076dfc-b9ad-4769-8c92-a6c4dae69d19",
    "_uuid": "8f2839f25d086af736a60e9eeb907d3b93b6e0e5",
    "execution": {
     "iopub.execute_input": "2023-12-08T14:52:06.231331Z",
     "iopub.status.busy": "2023-12-08T14:52:06.230180Z",
     "iopub.status.idle": "2023-12-08T14:52:06.237770Z",
     "shell.execute_reply": "2023-12-08T14:52:06.236063Z"
    },
    "papermill": {
     "duration": 0.018239,
     "end_time": "2023-12-08T14:52:06.240901",
     "exception": false,
     "start_time": "2023-12-08T14:52:06.222662",
     "status": "completed"
    },
    "tags": []
   },
   "outputs": [],
   "source": [
    "class config:\n",
    "    root = '/kaggle/input/blood-vessel-segmentation'\n",
    "    data = '/kaggle/input/sennet-hoa-kidney-13-dense-full-kidney-masks/train_rles.csv'\n",
    "    groups = ['kidney_1_dense', 'kidney_3_dense']"
   ]
  },
  {
   "cell_type": "code",
   "execution_count": 3,
   "id": "f7e0cbe1",
   "metadata": {
    "execution": {
     "iopub.execute_input": "2023-12-08T14:52:06.249871Z",
     "iopub.status.busy": "2023-12-08T14:52:06.249437Z",
     "iopub.status.idle": "2023-12-08T14:52:06.255293Z",
     "shell.execute_reply": "2023-12-08T14:52:06.254073Z"
    },
    "papermill": {
     "duration": 0.013401,
     "end_time": "2023-12-08T14:52:06.257832",
     "exception": false,
     "start_time": "2023-12-08T14:52:06.244431",
     "status": "completed"
    },
    "tags": []
   },
   "outputs": [],
   "source": [
    "dirs = {\n",
    "    'kidney_1_dense': 'train/kidney_1_dense/images',\n",
    "    'kidney_1_voi': 'train/kidney_1_voi/images',\n",
    "    'kidney_2': 'train/kidney_2/images',\n",
    "    'kidney_3_dense': 'train/kidney_3_sparse/images',\n",
    "    'kidney_3_sparse': 'train/kidney_3_sparse/images'\n",
    "}"
   ]
  },
  {
   "cell_type": "code",
   "execution_count": 4,
   "id": "e5d68821",
   "metadata": {
    "execution": {
     "iopub.execute_input": "2023-12-08T14:52:06.267497Z",
     "iopub.status.busy": "2023-12-08T14:52:06.266599Z",
     "iopub.status.idle": "2023-12-08T14:52:06.275318Z",
     "shell.execute_reply": "2023-12-08T14:52:06.274001Z"
    },
    "papermill": {
     "duration": 0.016763,
     "end_time": "2023-12-08T14:52:06.278183",
     "exception": false,
     "start_time": "2023-12-08T14:52:06.261420",
     "status": "completed"
    },
    "tags": []
   },
   "outputs": [],
   "source": [
    "def get_image_size(path):\n",
    "    img = cv2.imread(path, cv2.IMREAD_GRAYSCALE)\n",
    "    return list(img.shape)\n",
    "\n",
    "def compute_stats(path):\n",
    "    image = cv2.imread(path, cv2.IMREAD_GRAYSCALE)\n",
    "    image = np.asarray(image / 255.0, dtype=np.float32)\n",
    "    stats = (\n",
    "        image.min(),\n",
    "        image.max(),\n",
    "        image.mean(),\n",
    "        image.std()\n",
    "    )\n",
    "    return stats"
   ]
  },
  {
   "cell_type": "code",
   "execution_count": 5,
   "id": "527d0a8a",
   "metadata": {
    "execution": {
     "iopub.execute_input": "2023-12-08T14:52:06.287640Z",
     "iopub.status.busy": "2023-12-08T14:52:06.286700Z",
     "iopub.status.idle": "2023-12-08T14:54:53.889562Z",
     "shell.execute_reply": "2023-12-08T14:54:53.887397Z"
    },
    "papermill": {
     "duration": 167.612712,
     "end_time": "2023-12-08T14:54:53.894270",
     "exception": false,
     "start_time": "2023-12-08T14:52:06.281558",
     "status": "completed"
    },
    "tags": []
   },
   "outputs": [],
   "source": [
    "df = pd.read_csv(config.data)\n",
    "\n",
    "df['group'] = df['id'].apply(lambda x: \"_\".join(x.split('_')[:-1]))\n",
    "df['image'] = df['id'].apply(lambda x: x.split('_')[-1])\n",
    "df['path'] = df.apply(lambda x: f\"{config.root}/{dirs[x.group]}/{x.image}.tif\", axis = 1)\n",
    "\n",
    "df = df.merge(\n",
    "    df.drop_duplicates(subset = ['group'])\n",
    "        .set_index('group')['path']\n",
    "        .apply(get_image_size)\n",
    "        .apply(pd.Series)\n",
    "        .rename(columns = {0: 'height', 1: 'width'}),\n",
    "    on = 'group',\n",
    "    how = 'left'\n",
    ")\n",
    "df = df.loc[df.group.isin(config.groups)]\n",
    "df = df.rename(columns = {'rle': 'vessels', 'kidney_rle': 'kidney'})\n",
    "\n",
    "stats_df = (df.path\n",
    "            .apply(compute_stats).apply(pd.Series)\n",
    "            .rename(columns = {0: 'min', 1: 'max', 2: 'mean', 3: 'std'})\n",
    "           )\n",
    "\n",
    "df = pd.concat((df, stats_df), axis = 1)\n",
    "df['image'] = df['image'].apply(lambda x: str(x).zfill(4))"
   ]
  },
  {
   "cell_type": "code",
   "execution_count": 6,
   "id": "990e6c5c",
   "metadata": {
    "execution": {
     "iopub.execute_input": "2023-12-08T14:54:53.904463Z",
     "iopub.status.busy": "2023-12-08T14:54:53.903907Z",
     "iopub.status.idle": "2023-12-08T14:54:56.609064Z",
     "shell.execute_reply": "2023-12-08T14:54:56.607723Z"
    },
    "papermill": {
     "duration": 2.713921,
     "end_time": "2023-12-08T14:54:56.612151",
     "exception": false,
     "start_time": "2023-12-08T14:54:53.898230",
     "status": "completed"
    },
    "tags": []
   },
   "outputs": [],
   "source": [
    "df.to_csv('train-data.csv', index = False)"
   ]
  }
 ],
 "metadata": {
  "kaggle": {
   "accelerator": "none",
   "dataSources": [
    {
     "databundleVersionId": 6962461,
     "sourceId": 61446,
     "sourceType": "competition"
    },
    {
     "datasetId": 4055577,
     "sourceId": 7047700,
     "sourceType": "datasetVersion"
    }
   ],
   "dockerImageVersionId": 30587,
   "isGpuEnabled": false,
   "isInternetEnabled": true,
   "language": "python",
   "sourceType": "notebook"
  },
  "kernelspec": {
   "display_name": "Python 3",
   "language": "python",
   "name": "python3"
  },
  "language_info": {
   "codemirror_mode": {
    "name": "ipython",
    "version": 3
   },
   "file_extension": ".py",
   "mimetype": "text/x-python",
   "name": "python",
   "nbconvert_exporter": "python",
   "pygments_lexer": "ipython3",
   "version": "3.10.12"
  },
  "papermill": {
   "default_parameters": {},
   "duration": 177.108689,
   "end_time": "2023-12-08T14:54:57.240831",
   "environment_variables": {},
   "exception": null,
   "input_path": "__notebook__.ipynb",
   "output_path": "__notebook__.ipynb",
   "parameters": {},
   "start_time": "2023-12-08T14:52:00.132142",
   "version": "2.4.0"
  }
 },
 "nbformat": 4,
 "nbformat_minor": 5
}
